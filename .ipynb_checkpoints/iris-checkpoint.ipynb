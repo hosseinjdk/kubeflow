{
 "cells": [
  {
   "cell_type": "code",
   "execution_count": 20,
   "id": "ec1b4428-411e-4051-aa5f-b67a2b295be9",
   "metadata": {
    "tags": []
   },
   "outputs": [],
   "source": [
    "download_and_merge_csv(url='https://storage.googleapis.com/ml-pipeline-playground/iris-csv-files.tar.gz', output_csv='merged_data.csv')"
   ]
  },
  {
   "cell_type": "code",
   "execution_count": null,
   "id": "0f1736a9-15f1-4a6d-8bdd-b16db8d68d52",
   "metadata": {},
   "outputs": [],
   "source": []
  }
 ],
 "metadata": {
  "kernelspec": {
   "display_name": "Python 3 (ipykernel)",
   "language": "python",
   "name": "python3"
  },
  "language_info": {
   "codemirror_mode": {
    "name": "ipython",
    "version": 3
   },
   "file_extension": ".py",
   "mimetype": "text/x-python",
   "name": "python",
   "nbconvert_exporter": "python",
   "pygments_lexer": "ipython3",
   "version": "3.11.6"
  }
 },
 "nbformat": 4,
 "nbformat_minor": 5
}
