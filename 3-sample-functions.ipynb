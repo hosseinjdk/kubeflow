{
 "cells": [
  {
   "cell_type": "code",
   "execution_count": 16,
   "id": "fab9f15c-d906-424e-a804-18c0f9c51f01",
   "metadata": {
    "tags": []
   },
   "outputs": [
    {
     "name": "stdout",
     "output_type": "stream",
     "text": [
      "Pipeline ID: 5fcd4d43-8a05-4ca2-bdbe-3c23169ecca7\n",
      "Pipeline Name: hello-csv-pipeline\n",
      "Version ID: 3526faed-bd62-4ad5-b4e7-6e1392d29b33\n"
     ]
    }
   ],
   "source": [
    "#List and delete pipeline and versions\n",
    "\n",
    "import kfp\n",
    "try:\n",
    "    client = kfp.Client()\n",
    "    #pipelines = client.list_pipelines() \n",
    "    pipelines = client.list_pipelines(namespace='kubeflow-user-example-com')\n",
    "    for pipeline in pipelines.pipelines:\n",
    "        print(\"Pipeline ID:\", pipeline._pipeline_id)\n",
    "        print(\"Pipeline Name:\", pipeline._display_name)\n",
    "        \n",
    "        versions_response = client.list_pipeline_versions(pipeline_id=pipeline._pipeline_id)\n",
    "        if versions_response.pipeline_versions:\n",
    "            for version in versions_response.pipeline_versions:\n",
    "                print(f\"Version ID: {version._pipeline_version_id}\")\n",
    "                client.delete_pipeline_version(pipeline._pipeline_id,version._pipeline_version_id)\n",
    "        else:\n",
    "            print(\"No versions found for the given pipeline.\")\n",
    "        \n",
    "        client.delete_pipeline(pipeline._pipeline_id)\n",
    "        \n",
    "except Exception as e:\n",
    "    print(f\"Failed: {e}\")"
   ]
  },
  {
   "cell_type": "code",
   "execution_count": 17,
   "id": "8937200c-3af4-495e-aeb4-023026c96ef8",
   "metadata": {
    "tags": []
   },
   "outputs": [
    {
     "name": "stdout",
     "output_type": "stream",
     "text": [
      "Experiment_id: e2198351-c651-4c5e-9996-097967aaadea\n"
     ]
    }
   ],
   "source": [
    "#List and delete Experiments\n",
    "import kfp\n",
    "try:\n",
    "    client = kfp.Client()\n",
    "    #result = client.list_experiments()\n",
    "    result = client.list_experiments(namespace='kubeflow-user-example-com')\n",
    "    for expr in result.experiments:\n",
    "        print(f\"Experiment_id: {expr.experiment_id}\")\n",
    "        client.delete_experiment(expr.experiment_id)\n",
    "except Exception as e:\n",
    "    print(f\"Failed: {e}\")\n"
   ]
  },
  {
   "cell_type": "code",
   "execution_count": 18,
   "id": "d1d18fff-1621-47de-b82b-737489fb79d0",
   "metadata": {
    "tags": []
   },
   "outputs": [
    {
     "name": "stdout",
     "output_type": "stream",
     "text": [
      "Run_id: d5273872-074e-4d00-97db-07d3269a666c\n"
     ]
    }
   ],
   "source": [
    "#List and delete Runs\n",
    "\n",
    "import kfp\n",
    "try:\n",
    "    client = kfp.Client()\n",
    "    #result = client.list_runs()\n",
    "    result = client.list_runs(namespace='kubeflow-user-example-com')\n",
    "    for run in result.runs:\n",
    "        print(f\"Run_id: {run.run_id}\")\n",
    "        client.delete_run(run.run_id)\n",
    "except Exception as e:\n",
    "    print(f\"Failed: {e}\")"
   ]
  },
  {
   "cell_type": "code",
   "execution_count": 30,
   "id": "818f6cef-5ad4-43ed-a4b0-a38195b256fe",
   "metadata": {
    "tags": []
   },
   "outputs": [],
   "source": [
    "# https://www.kubeflow.org/docs/components/pipelines/legacy-v1/sdk/build-pipeline/\n",
    "\n",
    "import glob\n",
    "import pandas as pd\n",
    "import tarfile\n",
    "import urllib.request\n",
    "    \n",
    "def download_and_merge_csv(url: str, output_csv: str):\n",
    "  with urllib.request.urlopen(url) as res:\n",
    "    tarfile.open(fileobj=res, mode=\"r|gz\").extractall('data')\n",
    "  df = pd.concat(\n",
    "      [pd.read_csv(csv_file, header=None) \n",
    "       for csv_file in glob.glob('data/*.csv')])\n",
    "  df.to_csv(output_csv, index=False, header=False)\n",
    "\n",
    "download_and_merge_csv(url='https://storage.googleapis.com/ml-pipeline-playground/iris-csv-files.tar.gz', output_csv='merged_data.csv')"
   ]
  },
  {
   "cell_type": "code",
   "execution_count": 40,
   "id": "92f37f9f-7053-433a-9a2b-e35e95197271",
   "metadata": {
    "collapsed": true,
    "jupyter": {
     "outputs_hidden": true
    },
    "tags": []
   },
   "outputs": [
    {
     "name": "stdout",
     "output_type": "stream",
     "text": [
      "5.1, 3.5, 1.4, 0.2, setosa\n",
      "4.9, 3.0, 1.4, 0.2, setosa\n",
      "4.7, 3.2, 1.3, 0.2, setosa\n",
      "4.6, 3.1, 1.5, 0.2, setosa\n",
      "5.0, 3.6, 1.4, 0.2, setosa\n",
      "5.4, 3.9, 1.7, 0.4, setosa\n",
      "4.6, 3.4, 1.4, 0.3, setosa\n",
      "5.0, 3.4, 1.5, 0.2, setosa\n",
      "4.4, 2.9, 1.4, 0.2, setosa\n",
      "4.9, 3.1, 1.5, 0.1, setosa\n",
      "5.4, 3.7, 1.5, 0.2, setosa\n",
      "4.8, 3.4, 1.6, 0.2, setosa\n",
      "4.8, 3.0, 1.4, 0.1, setosa\n",
      "4.3, 3.0, 1.1, 0.1, setosa\n",
      "5.8, 4.0, 1.2, 0.2, setosa\n",
      "5.7, 4.4, 1.5, 0.4, setosa\n",
      "5.4, 3.9, 1.3, 0.4, setosa\n",
      "5.1, 3.5, 1.4, 0.3, setosa\n",
      "5.7, 3.8, 1.7, 0.3, setosa\n",
      "5.1, 3.8, 1.5, 0.3, setosa\n",
      "5.4, 3.4, 1.7, 0.2, setosa\n",
      "5.1, 3.7, 1.5, 0.4, setosa\n",
      "4.6, 3.6, 1.0, 0.2, setosa\n",
      "5.1, 3.3, 1.7, 0.5, setosa\n",
      "4.8, 3.4, 1.9, 0.2, setosa\n",
      "5.0, 3.0, 1.6, 0.2, setosa\n",
      "5.0, 3.4, 1.6, 0.4, setosa\n",
      "5.2, 3.5, 1.5, 0.2, setosa\n",
      "5.2, 3.4, 1.4, 0.2, setosa\n",
      "4.7, 3.2, 1.6, 0.2, setosa\n",
      "4.8, 3.1, 1.6, 0.2, setosa\n",
      "5.4, 3.4, 1.5, 0.4, setosa\n",
      "5.2, 4.1, 1.5, 0.1, setosa\n",
      "5.5, 4.2, 1.4, 0.2, setosa\n",
      "4.9, 3.1, 1.5, 0.1, setosa\n",
      "5.0, 3.2, 1.2, 0.2, setosa\n",
      "5.5, 3.5, 1.3, 0.2, setosa\n",
      "4.9, 3.1, 1.5, 0.1, setosa\n",
      "4.4, 3.0, 1.3, 0.2, setosa\n",
      "5.1, 3.4, 1.5, 0.2, setosa\n",
      "5.0, 3.5, 1.3, 0.3, setosa\n",
      "4.5, 2.3, 1.3, 0.3, setosa\n",
      "4.4, 3.2, 1.3, 0.2, setosa\n",
      "5.0, 3.5, 1.6, 0.6, setosa\n",
      "5.1, 3.8, 1.9, 0.4, setosa\n",
      "4.8, 3.0, 1.4, 0.3, setosa\n",
      "5.1, 3.8, 1.6, 0.2, setosa\n",
      "4.6, 3.2, 1.4, 0.2, setosa\n",
      "5.3, 3.7, 1.5, 0.2, setosa\n",
      "5.0, 3.3, 1.4, 0.2, setosa\n",
      "6.3, 3.3, 6.0, 2.5, virginica\n",
      "5.8, 2.7, 5.1, 1.9, virginica\n",
      "7.1, 3.0, 5.9, 2.1, virginica\n",
      "6.3, 2.9, 5.6, 1.8, virginica\n",
      "6.5, 3.0, 5.8, 2.2, virginica\n",
      "7.6, 3.0, 6.6, 2.1, virginica\n",
      "4.9, 2.5, 4.5, 1.7, virginica\n",
      "7.3, 2.9, 6.3, 1.8, virginica\n",
      "6.7, 2.5, 5.8, 1.8, virginica\n",
      "7.2, 3.6, 6.1, 2.5, virginica\n",
      "6.5, 3.2, 5.1, 2.0, virginica\n",
      "6.4, 2.7, 5.3, 1.9, virginica\n",
      "6.8, 3.0, 5.5, 2.1, virginica\n",
      "5.7, 2.5, 5.0, 2.0, virginica\n",
      "5.8, 2.8, 5.1, 2.4, virginica\n",
      "6.4, 3.2, 5.3, 2.3, virginica\n",
      "6.5, 3.0, 5.5, 1.8, virginica\n",
      "7.7, 3.8, 6.7, 2.2, virginica\n",
      "7.7, 2.6, 6.9, 2.3, virginica\n",
      "6.0, 2.2, 5.0, 1.5, virginica\n",
      "6.9, 3.2, 5.7, 2.3, virginica\n",
      "5.6, 2.8, 4.9, 2.0, virginica\n",
      "7.7, 2.8, 6.7, 2.0, virginica\n",
      "6.3, 2.7, 4.9, 1.8, virginica\n",
      "6.7, 3.3, 5.7, 2.1, virginica\n",
      "7.2, 3.2, 6.0, 1.8, virginica\n",
      "6.2, 2.8, 4.8, 1.8, virginica\n",
      "6.1, 3.0, 4.9, 1.8, virginica\n",
      "6.4, 2.8, 5.6, 2.1, virginica\n",
      "7.2, 3.0, 5.8, 1.6, virginica\n",
      "7.4, 2.8, 6.1, 1.9, virginica\n",
      "7.9, 3.8, 6.4, 2.0, virginica\n",
      "6.4, 2.8, 5.6, 2.2, virginica\n",
      "6.3, 2.8, 5.1, 1.5, virginica\n",
      "6.1, 2.6, 5.6, 1.4, virginica\n",
      "7.7, 3.0, 6.1, 2.3, virginica\n",
      "6.3, 3.4, 5.6, 2.4, virginica\n",
      "6.4, 3.1, 5.5, 1.8, virginica\n",
      "6.0, 3.0, 4.8, 1.8, virginica\n",
      "6.9, 3.1, 5.4, 2.1, virginica\n",
      "6.7, 3.1, 5.6, 2.4, virginica\n",
      "6.9, 3.1, 5.1, 2.3, virginica\n",
      "5.8, 2.7, 5.1, 1.9, virginica\n",
      "6.8, 3.2, 5.9, 2.3, virginica\n",
      "6.7, 3.3, 5.7, 2.5, virginica\n",
      "6.7, 3.0, 5.2, 2.3, virginica\n",
      "6.3, 2.5, 5.0, 1.9, virginica\n",
      "6.5, 3.0, 5.2, 2.0, virginica\n",
      "6.2, 3.4, 5.4, 2.3, virginica\n",
      "5.9, 3.0, 5.1, 1.8, virginica\n",
      "7.0, 3.2, 4.7, 1.4, versicolor\n",
      "6.4, 3.2, 4.5, 1.5, versicolor\n",
      "6.9, 3.1, 4.9, 1.5, versicolor\n",
      "5.5, 2.3, 4.0, 1.3, versicolor\n",
      "6.5, 2.8, 4.6, 1.5, versicolor\n",
      "5.7, 2.8, 4.5, 1.3, versicolor\n",
      "6.3, 3.3, 4.7, 1.6, versicolor\n",
      "4.9, 2.4, 3.3, 1.0, versicolor\n",
      "6.6, 2.9, 4.6, 1.3, versicolor\n",
      "5.2, 2.7, 3.9, 1.4, versicolor\n",
      "5.0, 2.0, 3.5, 1.0, versicolor\n",
      "5.9, 3.0, 4.2, 1.5, versicolor\n",
      "6.0, 2.2, 4.0, 1.0, versicolor\n",
      "6.1, 2.9, 4.7, 1.4, versicolor\n",
      "5.6, 2.9, 3.6, 1.3, versicolor\n",
      "6.7, 3.1, 4.4, 1.4, versicolor\n",
      "5.6, 3.0, 4.5, 1.5, versicolor\n",
      "5.8, 2.7, 4.1, 1.0, versicolor\n",
      "6.2, 2.2, 4.5, 1.5, versicolor\n",
      "5.6, 2.5, 3.9, 1.1, versicolor\n",
      "5.9, 3.2, 4.8, 1.8, versicolor\n",
      "6.1, 2.8, 4.0, 1.3, versicolor\n",
      "6.3, 2.5, 4.9, 1.5, versicolor\n",
      "6.1, 2.8, 4.7, 1.2, versicolor\n",
      "6.4, 2.9, 4.3, 1.3, versicolor\n",
      "6.6, 3.0, 4.4, 1.4, versicolor\n",
      "6.8, 2.8, 4.8, 1.4, versicolor\n",
      "6.7, 3.0, 5.0, 1.7, versicolor\n",
      "6.0, 2.9, 4.5, 1.5, versicolor\n",
      "5.7, 2.6, 3.5, 1.0, versicolor\n",
      "5.5, 2.4, 3.8, 1.1, versicolor\n",
      "5.5, 2.4, 3.7, 1.0, versicolor\n",
      "5.8, 2.7, 3.9, 1.2, versicolor\n",
      "6.0, 2.7, 5.1, 1.6, versicolor\n",
      "5.4, 3.0, 4.5, 1.5, versicolor\n",
      "6.0, 3.4, 4.5, 1.6, versicolor\n",
      "6.7, 3.1, 4.7, 1.5, versicolor\n",
      "6.3, 2.3, 4.4, 1.3, versicolor\n",
      "5.6, 3.0, 4.1, 1.3, versicolor\n",
      "5.5, 2.5, 4.0, 1.3, versicolor\n",
      "5.5, 2.6, 4.4, 1.2, versicolor\n",
      "6.1, 3.0, 4.6, 1.4, versicolor\n",
      "5.8, 2.6, 4.0, 1.2, versicolor\n",
      "5.0, 2.3, 3.3, 1.0, versicolor\n",
      "5.6, 2.7, 4.2, 1.3, versicolor\n",
      "5.7, 3.0, 4.2, 1.2, versicolor\n",
      "5.7, 2.9, 4.2, 1.3, versicolor\n",
      "6.2, 2.9, 4.3, 1.3, versicolor\n",
      "5.1, 2.5, 3.0, 1.1, versicolor\n",
      "5.7, 2.8, 4.1, 1.3, versicolor\n"
     ]
    }
   ],
   "source": [
    "# https://docs.python.org/3/library/csv.html\n",
    "\n",
    "import csv\n",
    "with open('merged_data.csv', newline='') as csvfile:\n",
    "    spamreader = csv.reader(csvfile, delimiter=',')\n",
    "    for row in spamreader:\n",
    "        print(', '.join(row))\n"
   ]
  },
  {
   "cell_type": "code",
   "execution_count": 39,
   "id": "ad8aa2ca-9104-4939-8ff1-9a270586d449",
   "metadata": {
    "tags": []
   },
   "outputs": [],
   "source": [
    "import csv\n",
    "\n",
    "csvInputFile = open(\"merged_data.csv\")\n",
    "csvReader = csv.reader(csvInputFile)\n",
    "header = next(csvReader)\n",
    "rows = []\n",
    "for row in csvReader:\n",
    "    rows.append(row)\n",
    "csvInputFile.close()\n",
    "\n",
    "with open('output.csv', 'w', newline='') as csvOutputFile:\n",
    "    csvWriter = csv.writer(csvOutputFile)\n",
    "    \n",
    "    for row in rows:\n",
    "        csvWriter.writerow(row)"
   ]
  },
  {
   "cell_type": "code",
   "execution_count": null,
   "id": "650ffdd7-8dd5-4972-b8a7-3dd10909bd2c",
   "metadata": {},
   "outputs": [],
   "source": []
  }
 ],
 "metadata": {
  "kernelspec": {
   "display_name": "Python 3 (ipykernel)",
   "language": "python",
   "name": "python3"
  },
  "language_info": {
   "codemirror_mode": {
    "name": "ipython",
    "version": 3
   },
   "file_extension": ".py",
   "mimetype": "text/x-python",
   "name": "python",
   "nbconvert_exporter": "python",
   "pygments_lexer": "ipython3",
   "version": "3.11.6"
  }
 },
 "nbformat": 4,
 "nbformat_minor": 5
}
